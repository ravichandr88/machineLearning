{
 "cells": [
  {
   "cell_type": "code",
   "execution_count": 71,
   "metadata": {},
   "outputs": [],
   "source": [
    "import numpy as np\n",
    "import matplotlib.pyplot as plt\n"
   ]
  },
  {
   "cell_type": "markdown",
   "metadata": {},
   "source": [
    "# Creating the 'x' and 'y' values using numpy random function."
   ]
  },
  {
   "cell_type": "code",
   "execution_count": 72,
   "metadata": {},
   "outputs": [
    {
     "data": {
      "text/plain": [
       "array([2, 5, 4, 4, 5, 4, 9, 1, 4, 9, 4, 1, 9, 8, 9, 2, 8, 5, 7, 8, 4, 3,\n",
       "       0, 9, 1, 4, 8, 4, 9, 8, 6, 4, 4, 1, 4, 8, 3, 8, 9, 2])"
      ]
     },
     "execution_count": 72,
     "metadata": {},
     "output_type": "execute_result"
    }
   ],
   "source": [
    "x = np.random.randint(0,10,40)\n",
    "x"
   ]
  },
  {
   "cell_type": "markdown",
   "metadata": {},
   "source": [
    "## Now building 'y' values based on 'x' values using slope-m and intercept-c .                        Here we will assume slope to be 5 and intercept to be 7 \n",
    "\n"
   ]
  },
  {
   "cell_type": "code",
   "execution_count": 73,
   "metadata": {},
   "outputs": [],
   "source": [
    "m = 5\n",
    "c = 7"
   ]
  },
  {
   "cell_type": "markdown",
   "metadata": {},
   "source": [
    "# Eqaution for linear data is y=mx + c  or y = m1x1 + m2x2 + m3x3 + m0"
   ]
  },
  {
   "cell_type": "code",
   "execution_count": 74,
   "metadata": {},
   "outputs": [
    {
     "data": {
      "text/plain": [
       "array([17, 32, 27, 27, 32, 27, 52, 12, 27, 52, 27, 12, 52, 47, 52, 17, 47,\n",
       "       32, 42, 47, 27, 22,  7, 52, 12, 27, 47, 27, 52, 47, 37, 27, 27, 12,\n",
       "       27, 47, 22, 47, 52, 17])"
      ]
     },
     "execution_count": 74,
     "metadata": {},
     "output_type": "execute_result"
    }
   ],
   "source": [
    "y= (m*x) + c\n",
    "y"
   ]
  },
  {
   "cell_type": "markdown",
   "metadata": {},
   "source": [
    "# Now we will see how the line is displyed using matplotlib.pyplot"
   ]
  },
  {
   "cell_type": "code",
   "execution_count": 75,
   "metadata": {},
   "outputs": [
    {
     "data": {
      "text/plain": [
       "[<matplotlib.lines.Line2D at 0x24e2063a9e8>]"
      ]
     },
     "execution_count": 75,
     "metadata": {},
     "output_type": "execute_result"
    },
    {
     "data": {
      "image/png": "[encoded data removed]",
      "text/plain": [
       "<Figure size 432x288 with 1 Axes>"
      ]
     },
     "metadata": {
      "needs_background": "light"
     },
     "output_type": "display_data"
    }
   ],
   "source": [
    "plt.plot(x,y)\n",
    "plt.plot(x,y,'ro')"
   ]
  },
  {
   "cell_type": "markdown",
   "metadata": {},
   "source": [
    "# Since the data points are very perfect ,we try to add some noise to make it look natural."
   ]
  },
  {
   "cell_type": "markdown",
   "metadata": {},
   "source": [
    "# So forming new y with noise."
   ]
  },
  {
   "cell_type": "markdown",
   "metadata": {},
   "source": [
    "# Here we use noise to show the line is not perfect and we are trying to fit the best one rather than perfect one."
   ]
  },
  {
   "cell_type": "code",
   "execution_count": 76,
   "metadata": {},
   "outputs": [],
   "source": [
    "new_y = m*(x+np.random.randint(-1,2,40)) + c"
   ]
  },
  {
   "cell_type": "code",
   "execution_count": 77,
   "metadata": {},
   "outputs": [
    {
     "data": {
      "text/plain": [
       "[<matplotlib.lines.Line2D at 0x24e20688438>]"
      ]
     },
     "execution_count": 77,
     "metadata": {},
     "output_type": "execute_result"
    },
    {
     "data": {
      "image/png": "[encoded data removed]",
      "text/plain": [
       "<Figure size 432x288 with 1 Axes>"
      ]
     },
     "metadata": {
      "needs_background": "light"
     },
     "output_type": "display_data"
    }
   ],
   "source": [
    "plt.plot(x,new_y,'ro')\n",
    "plt.plot(x,y)"
   ]
  },
  {
   "cell_type": "markdown",
   "metadata": {},
   "source": [
    "# '''In the above diagram we can see the values are scattered along the line.And now we will write a linear regression program which will fit the above points with minimum error."
   ]
  },
  {
   "cell_type": "markdown",
   "metadata": {},
   "source": [
    "# Now regarding everyone doubt , we are forgetting the slope and intercept we used.And trying to find the slope and intercept with minimum error using the linear regression"
   ]
  },
  {
   "cell_type": "markdown",
   "metadata": {},
   "source": [
    "## Steps for linear regression using gradient descent\n",
    "Step1: \n",
    "     We will assume random numbers for the slope and intercept.\n",
    "     m = 8\n",
    "     c=10\n",
    "     \n",
    "Step2:\n",
    "     Find the new predicted y_pred value using the guessed slope-m and intercept-c\n",
    "     y_pred = m * x + c\n",
    "     \n",
    "Step3:\n",
    "    Find the error between the actual y and predicted y.\n",
    "    Error = y_pred - y\n",
    "    \n",
    "    \n",
    "    Find the total error between all the predicted y values to all y values.\n",
    "    Error = (sigma(y_pred-y)^2)/(2*len(y))\n",
    "    \n",
    "    Subtract each y_pred with actual y and square them.\n",
    "    Sum them and divide them by number of rows.\n",
    "    \n",
    "    This will give us the total error\n",
    "   \n",
    "Step4:\n",
    "     We will be using gradient descent to find the new slope and intercept values which would give us less error.\n",
    "     But here we need to know what is the error with respect to slope.\n",
    "     So we differentiate the error equation with respect to slope-m.\n",
    "     \n",
    "     Error with respect to slope will be \n",
    "     new_slope = previous_slope -( learning_rate * (Error with slope))\n",
    "     m = m - a*(((y_pred-y) x)  / len(y))\n",
    "     \n",
    "     new_intercept = previous_intercept  - (learning_rate *Error with intercept)\n",
    "     c = c - a*((y_pred-y)/len(y))\n",
    "Step5:\n",
    "     Repeat theses steps from step 2 untill the below condition is satisfied and you can stop.\n",
    "     \n",
    "     \n",
    "    Check if the change in slope and intercept values are changing less than 0.01 or the iterations have reached 100 , then stop iterating and consider these values are the best we can get."
   ]
  },
  {
   "cell_type": "markdown",
   "metadata": {},
   "source": [
    "# To make it look easy we will be using the data in form table for each equation and will watch the data changes as we go."
   ]
  },
  {
   "cell_type": "code",
   "execution_count": 78,
   "metadata": {},
   "outputs": [],
   "source": [
    "import pandas as pd"
   ]
  },
  {
   "cell_type": "markdown",
   "metadata": {},
   "source": [
    "## This table will be having columns as \n",
    "Error\n",
    "\n",
    "slope\n",
    "\n",
    "intercept\n",
    "\n",
    "change in slope\n",
    "\n",
    "change in intercept"
   ]
  },
  {
   "cell_type": "code",
   "execution_count": 79,
   "metadata": {},
   "outputs": [
    {
     "data": {
      "text/html": [
       "<div>\n",
       "<style>\n",
       "    .dataframe thead tr:only-child th {\n",
       "        text-align: right;\n",
       "    }\n",
       "\n",
       "    .dataframe thead th {\n",
       "        text-align: left;\n",
       "    }\n",
       "\n",
       "    .dataframe tbody tr th {\n",
       "        vertical-align: top;\n",
       "    }\n",
       "</style>\n",
       "<table border=\"1\" class=\"dataframe\">\n",
       "  <thead>\n",
       "    <tr style=\"text-align: right;\">\n",
       "      <th></th>\n",
       "      <th>error</th>\n",
       "      <th>slope</th>\n",
       "      <th>intercept</th>\n",
       "      <th>chgSlp</th>\n",
       "      <th>chgInt</th>\n",
       "    </tr>\n",
       "  </thead>\n",
       "  <tbody>\n",
       "  </tbody>\n",
       "</table>\n",
       "</div>"
      ],
      "text/plain": [
       "Empty DataFrame\n",
       "Columns: [error, slope, intercept, chgSlp, chgInt]\n",
       "Index: []"
      ]
     },
     "execution_count": 79,
     "metadata": {},
     "output_type": "execute_result"
    }
   ],
   "source": [
    "df = pd.DataFrame()\n",
    "df['error']=[]\n",
    "df['slope']=[]\n",
    "df['intercept']=[]\n",
    "df['chgSlp']=[]\n",
    "df['chgInt']=[]\n",
    "df"
   ]
  },
  {
   "cell_type": "markdown",
   "metadata": {},
   "source": [
    "## Here I will record values only after every 10 iterations."
   ]
  },
  {
   "cell_type": "markdown",
   "metadata": {},
   "source": [
    "# Step1:"
   ]
  },
  {
   "cell_type": "code",
   "execution_count": 80,
   "metadata": {},
   "outputs": [
    {
     "name": "stdout",
     "output_type": "stream",
     "text": [
      "m= 0 c= 8\n"
     ]
    }
   ],
   "source": [
    "# Random numbers for slope-m and intercept-c\n",
    "\n",
    "m = np.random.randint(0,10,1)[0]\n",
    "c = np.random.randint(0,10,1)[0]\n",
    "print('m=',m,'c=',c)"
   ]
  },
  {
   "cell_type": "markdown",
   "metadata": {},
   "source": [
    "## Step2:"
   ]
  },
  {
   "cell_type": "code",
   "execution_count": 81,
   "metadata": {},
   "outputs": [
    {
     "data": {
      "text/plain": [
       "array([8, 8, 8, 8, 8, 8, 8, 8, 8, 8, 8, 8, 8, 8, 8, 8, 8, 8, 8, 8, 8, 8,\n",
       "       8, 8, 8, 8, 8, 8, 8, 8, 8, 8, 8, 8, 8, 8, 8, 8, 8, 8])"
      ]
     },
     "execution_count": 81,
     "metadata": {},
     "output_type": "execute_result"
    }
   ],
   "source": [
    "#Find the y values with respect to the slope and intercept values using x.\n",
    "def predict_y(x):\n",
    "    y_pred = (m * x) + c\n",
    "    return y_pred\n",
    "y_pred = predict_y(x)\n",
    "y_pred"
   ]
  },
  {
   "cell_type": "markdown",
   "metadata": {},
   "source": [
    "## Step3"
   ]
  },
  {
   "cell_type": "code",
   "execution_count": 82,
   "metadata": {},
   "outputs": [
    {
     "data": {
      "text/plain": [
       "385.5625"
      ]
     },
     "execution_count": 82,
     "metadata": {},
     "output_type": "execute_result"
    }
   ],
   "source": [
    "# Find the error between predicted y values and actual y values\n",
    "def err(y_pred,y):\n",
    "    error = sum((y_pred-y)*(y_pred-y))/(2*len(y))\n",
    "    return error\n",
    "\n",
    "mse = err(y_pred,new_y)\n",
    "mse\n",
    "\n",
    "    "
   ]
  },
  {
   "cell_type": "markdown",
   "metadata": {},
   "source": [
    "Step4\n",
    "## Error with respect to slope and intercept\n",
    "And n"
   ]
  },
  {
   "cell_type": "code",
   "execution_count": 83,
   "metadata": {},
   "outputs": [
    {
     "name": "stdout",
     "output_type": "stream",
     "text": [
      "1.61575 8.23625\n"
     ]
    }
   ],
   "source": [
    "# new slope and intercept values\n",
    "def new_m_c(a,m,c,x,y,y_pred):\n",
    "    m = m - a*(sum((y_pred-y)*x)/len(y))\n",
    "    c = c - a*(sum(y_pred-y)/len(y))\n",
    "    return (m,c)\n",
    "\n",
    "#alpha or learning rate,\n",
    "a = 0.01\n",
    "m_new,c_new = new_m_c(a,m,c,x,new_y,y_pred)\n",
    "\n",
    "print(m_new,c_new)"
   ]
  },
  {
   "cell_type": "markdown",
   "metadata": {},
   "source": [
    "## Learning rate\n",
    "We will be trying to move towards the right answer and everytime we are trying to reduce 1% of the error and this is what learning rate."
   ]
  },
  {
   "cell_type": "code",
   "execution_count": 84,
   "metadata": {},
   "outputs": [
    {
     "name": "stdout",
     "output_type": "stream",
     "text": [
      "change in m= 1.61575 change in c= 0.23625000000000007\n"
     ]
    }
   ],
   "source": [
    "# find the difference betweeen the previous slope and current slope values.\n",
    "def diffrnc(m1,c1,m2,c2):\n",
    "    md = m1-m2\n",
    "    cd = c1-c2\n",
    "    if md < 0:\n",
    "        md = md * -1\n",
    "    if cd < 0:\n",
    "        cd =cd * -1\n",
    "    \n",
    "    return (md,cd)\n",
    "\n",
    "m_chg,c_chg = diffrnc(m,c,m_new,c_new)\n",
    "\n",
    "print('change in m=',m_chg,'change in c=',c_chg) "
   ]
  },
  {
   "cell_type": "code",
   "execution_count": 85,
   "metadata": {},
   "outputs": [
    {
     "data": {
      "text/html": [
       "<div>\n",
       "<style>\n",
       "    .dataframe thead tr:only-child th {\n",
       "        text-align: right;\n",
       "    }\n",
       "\n",
       "    .dataframe thead th {\n",
       "        text-align: left;\n",
       "    }\n",
       "\n",
       "    .dataframe tbody tr th {\n",
       "        vertical-align: top;\n",
       "    }\n",
       "</style>\n",
       "<table border=\"1\" class=\"dataframe\">\n",
       "  <thead>\n",
       "    <tr style=\"text-align: right;\">\n",
       "      <th></th>\n",
       "      <th>error</th>\n",
       "      <th>slope</th>\n",
       "      <th>intercept</th>\n",
       "      <th>chgSlp</th>\n",
       "      <th>chgInt</th>\n",
       "    </tr>\n",
       "  </thead>\n",
       "  <tbody>\n",
       "    <tr>\n",
       "      <th>0</th>\n",
       "      <td>385.5625</td>\n",
       "      <td>1.61575</td>\n",
       "      <td>8.23625</td>\n",
       "      <td>1.61575</td>\n",
       "      <td>0.23625</td>\n",
       "    </tr>\n",
       "  </tbody>\n",
       "</table>\n",
       "</div>"
      ],
      "text/plain": [
       "      error    slope  intercept   chgSlp   chgInt\n",
       "0  385.5625  1.61575    8.23625  1.61575  0.23625"
      ]
     },
     "execution_count": 85,
     "metadata": {},
     "output_type": "execute_result"
    }
   ],
   "source": [
    "# Now we have to add these values into the pandas dataframe\n",
    "\n",
    "df.loc[0]=[mse,m_new,c_new,m_chg,c_chg]\n",
    "df"
   ]
  },
  {
   "cell_type": "markdown",
   "metadata": {},
   "source": [
    "## Now we can iterate through these functions one after the other and find the slope and interecpt values."
   ]
  },
  {
   "cell_type": "code",
   "execution_count": 91,
   "metadata": {},
   "outputs": [
    {
     "name": "stdout",
     "output_type": "stream",
     "text": [
      "Starting values of m 4.942904360042794 and c 6.147176375635846\n",
      "8 0.00015029701805602258 0.00099917541676664\n",
      "Iterations used is  8\n"
     ]
    },
    {
     "data": {
      "text/plain": [
       "[<matplotlib.lines.Line2D at 0x24e2184d9e8>]"
      ]
     },
     "execution_count": 91,
     "metadata": {},
     "output_type": "execute_result"
    },
    {
     "data": {
      "image/png": "[encoded data removed]",
      "text/plain": [
       "<Figure size 432x288 with 1 Axes>"
      ]
     },
     "metadata": {
      "needs_background": "light"
     },
     "output_type": "display_data"
    }
   ],
   "source": [
    "#Condition to stop the iterations is the number of\n",
    "#iteration should be 100 or change in slope and intercept values should be less than 0.01\n",
    "print('Starting values of m',m,'and c',c)\n",
    "for i in range(1000):\n",
    "#     Step2:\n",
    "    y_pred = predict_y(x)\n",
    "#     Step3:\n",
    "    mse = err(y_pred,new_y)\n",
    "#     Step4:\n",
    "    m_new,c_new = new_m_c(a,m,c,x,new_y,y_pred)\n",
    "#     Step5:\n",
    "    m_chg,c_chg = diffrnc(m,c,m_new,c_new)\n",
    "    m,c = m_new,c_new\n",
    "        \n",
    "    if i%5 == 0:\n",
    "        df.loc[len(df)] = [mse,m,c,m_chg,c_chg]\n",
    "    if(m_chg < 0.001) and (c_chg < 0.001):\n",
    "        print(i,m_chg,c_chg)\n",
    "        break\n",
    "    if i == 99:\n",
    "        print(m_chg,c_chg)\n",
    "print(\"Iterations used is \",i)\n",
    "df.loc[len(df)] = [mse,m,c,m_chg,c_chg]\n",
    "plt.plot(x,new_y,'ro')\n",
    "plt.plot(x,y_pred)"
   ]
  },
  {
   "cell_type": "code",
   "execution_count": 87,
   "metadata": {},
   "outputs": [
    {
     "data": {
      "text/html": [
       "<div>\n",
       "<style>\n",
       "    .dataframe thead tr:only-child th {\n",
       "        text-align: right;\n",
       "    }\n",
       "\n",
       "    .dataframe thead th {\n",
       "        text-align: left;\n",
       "    }\n",
       "\n",
       "    .dataframe tbody tr th {\n",
       "        vertical-align: top;\n",
       "    }\n",
       "</style>\n",
       "<table border=\"1\" class=\"dataframe\">\n",
       "  <thead>\n",
       "    <tr style=\"text-align: right;\">\n",
       "      <th></th>\n",
       "      <th>error</th>\n",
       "      <th>slope</th>\n",
       "      <th>intercept</th>\n",
       "      <th>chgSlp</th>\n",
       "      <th>chgInt</th>\n",
       "    </tr>\n",
       "  </thead>\n",
       "  <tbody>\n",
       "    <tr>\n",
       "      <th>0</th>\n",
       "      <td>385.562500</td>\n",
       "      <td>1.615750</td>\n",
       "      <td>8.236250</td>\n",
       "      <td>1.615750</td>\n",
       "      <td>0.236250</td>\n",
       "    </tr>\n",
       "    <tr>\n",
       "      <th>1</th>\n",
       "      <td>385.562500</td>\n",
       "      <td>1.615750</td>\n",
       "      <td>8.236250</td>\n",
       "      <td>1.615750</td>\n",
       "      <td>0.236250</td>\n",
       "    </tr>\n",
       "    <tr>\n",
       "      <th>2</th>\n",
       "      <td>13.727801</td>\n",
       "      <td>4.235590</td>\n",
       "      <td>8.596590</td>\n",
       "      <td>0.182604</td>\n",
       "      <td>0.020750</td>\n",
       "    </tr>\n",
       "    <tr>\n",
       "      <th>3</th>\n",
       "      <td>9.002483</td>\n",
       "      <td>4.534601</td>\n",
       "      <td>8.608201</td>\n",
       "      <td>0.021404</td>\n",
       "      <td>0.003424</td>\n",
       "    </tr>\n",
       "    <tr>\n",
       "      <th>4</th>\n",
       "      <td>8.921616</td>\n",
       "      <td>4.572533</td>\n",
       "      <td>8.580908</td>\n",
       "      <td>0.003264</td>\n",
       "      <td>0.006080</td>\n",
       "    </tr>\n",
       "  </tbody>\n",
       "</table>\n",
       "</div>"
      ],
      "text/plain": [
       "        error     slope  intercept    chgSlp    chgInt\n",
       "0  385.562500  1.615750   8.236250  1.615750  0.236250\n",
       "1  385.562500  1.615750   8.236250  1.615750  0.236250\n",
       "2   13.727801  4.235590   8.596590  0.182604  0.020750\n",
       "3    9.002483  4.534601   8.608201  0.021404  0.003424\n",
       "4    8.921616  4.572533   8.580908  0.003264  0.006080"
      ]
     },
     "execution_count": 87,
     "metadata": {},
     "output_type": "execute_result"
    }
   ],
   "source": [
    "# Here we can see the line has fit the data points with least error\n",
    "df.head()\n",
    "#Remeber this is the only top five rows of the table"
   ]
  },
  {
   "cell_type": "markdown",
   "metadata": {},
   "source": [
    "## We can use this table to see the change in line slope and intercept"
   ]
  },
  {
   "cell_type": "code",
   "execution_count": 88,
   "metadata": {},
   "outputs": [
    {
     "data": {
      "text/plain": [
       "[<matplotlib.lines.Line2D at 0x24e20751128>]"
      ]
     },
     "execution_count": 88,
     "metadata": {},
     "output_type": "execute_result"
    },
    {
     "data": {
      "image/png": "[encoded data removed]",
      "text/plain": [
       "<Figure size 432x288 with 1 Axes>"
      ]
     },
     "metadata": {
      "needs_background": "light"
     },
     "output_type": "display_data"
    }
   ],
   "source": [
    "\n",
    "for i in df.iloc[::5,:].values:\n",
    "    m = i[1]\n",
    "    c = i[2]\n",
    "    plt.plot(x,(m*x+c))\n",
    "\n",
    "plt.plot(x,new_y,'ro')\n",
    "\n"
   ]
  },
  {
   "cell_type": "markdown",
   "metadata": {},
   "source": [
    "# Gradient Descent\n",
    "Now we ill plot slope v/s error and c v/s error\n",
    "\n",
    "That is the gradient descent curve for our program"
   ]
  },
  {
   "cell_type": "code",
   "execution_count": 89,
   "metadata": {},
   "outputs": [
    {
     "data": {
      "text/plain": [
       "Text(0.5,1,'error v/s slope-m')"
      ]
     },
     "execution_count": 89,
     "metadata": {},
     "output_type": "execute_result"
    },
    {
     "data": {
      "image/png": "[encoded data removed]",
      "text/plain": [
       "<Figure size 432x288 with 1 Axes>"
      ]
     },
     "metadata": {
      "needs_background": "light"
     },
     "output_type": "display_data"
    }
   ],
   "source": [
    "plt.plot(df.error,df.slope,'ro')\n",
    "plt.title(\"error v/s slope-m\")"
   ]
  },
  {
   "cell_type": "code",
   "execution_count": 90,
   "metadata": {},
   "outputs": [
    {
     "data": {
      "text/plain": [
       "Text(0.5,1,'Error v/s intercept-c')"
      ]
     },
     "execution_count": 90,
     "metadata": {},
     "output_type": "execute_result"
    },
    {
     "data": {
      "image/png": "[encoded data removed]",
      "text/plain": [
       "<Figure size 432x288 with 1 Axes>"
      ]
     },
     "metadata": {
      "needs_background": "light"
     },
     "output_type": "display_data"
    }
   ],
   "source": [
    "plt.plot(df.error,df.intercept,'bo')\n",
    "plt.title('Error v/s intercept-c')\n"
   ]
  },
  {
   "cell_type": "code",
   "execution_count": null,
   "metadata": {},
   "outputs": [],
   "source": []
  }
 ],
 "metadata": {
  "kernelspec": {
   "display_name": "Python 3",
   "language": "python",
   "name": "python3"
  },
  "language_info": {
   "codemirror_mode": {
    "name": "ipython",
    "version": 3
   },
   "file_extension": ".py",
   "mimetype": "text/x-python",
   "name": "python",
   "nbconvert_exporter": "python",
   "pygments_lexer": "ipython3",
   "version": "3.6.7"
  }
 },
 "nbformat": 4,
 "nbformat_minor": 2
}
