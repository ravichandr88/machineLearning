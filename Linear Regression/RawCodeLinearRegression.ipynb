{
 "cells": [
  {
   "cell_type": "code",
   "execution_count": 122,
   "metadata": {},
   "outputs": [],
   "source": [
    "import numpy as np\n",
    "import matplotlib.pyplot as plt\n"
   ]
  },
  {
   "cell_type": "markdown",
   "metadata": {},
   "source": [
    "# Creating the 'x' and 'y' values using numpy random function."
   ]
  },
  {
   "cell_type": "code",
   "execution_count": 123,
   "metadata": {},
   "outputs": [
    {
     "data": {
      "text/plain": [
       "array([7, 9, 4, 0, 3, 5, 4, 4, 8, 2, 3, 7, 7, 1, 0, 5, 3, 0, 8, 2, 3, 6,\n",
       "       1, 3, 2, 4, 8, 4, 1, 2, 5, 4, 8, 2, 2, 3, 0, 4, 5, 0])"
      ]
     },
     "execution_count": 123,
     "metadata": {},
     "output_type": "execute_result"
    }
   ],
   "source": [
    "x = np.random.randint(0,10,40)\n",
    "x"
   ]
  },
  {
   "cell_type": "markdown",
   "metadata": {},
   "source": [
    "## Now building 'y' values based on 'x' values using slope-m and intercept-c .                        Here we will assume slope to be 5 and intercept to be 7 \n",
    "\n"
   ]
  },
  {
   "cell_type": "code",
   "execution_count": 124,
   "metadata": {},
   "outputs": [],
   "source": [
    "m = 5\n",
    "c = 7"
   ]
  },
  {
   "cell_type": "markdown",
   "metadata": {},
   "source": [
    "# Eqaution for linear data is y=mx + c  or y = m1x1 + m2x2 + m3x3 + m0"
   ]
  },
  {
   "cell_type": "code",
   "execution_count": 125,
   "metadata": {},
   "outputs": [
    {
     "data": {
      "text/plain": [
       "array([42, 52, 27,  7, 22, 32, 27, 27, 47, 17, 22, 42, 42, 12,  7, 32, 22,\n",
       "        7, 47, 17, 22, 37, 12, 22, 17, 27, 47, 27, 12, 17, 32, 27, 47, 17,\n",
       "       17, 22,  7, 27, 32,  7])"
      ]
     },
     "execution_count": 125,
     "metadata": {},
     "output_type": "execute_result"
    }
   ],
   "source": [
    "y= (m*x) + c\n",
    "y"
   ]
  },
  {
   "cell_type": "markdown",
   "metadata": {},
   "source": [
    "# Now we will see how the line is displyed using matplotlib.pyplot"
   ]
  },
  {
   "cell_type": "code",
   "execution_count": 126,
   "metadata": {},
   "outputs": [
    {
     "data": {
      "text/plain": [
       "[<matplotlib.lines.Line2D at 0x1be2a8e48d0>]"
      ]
     },
     "execution_count": 126,
     "metadata": {},
     "output_type": "execute_result"
    },
    {
     "data": {
      "image/png": "[encoded data removed]",
      "text/plain": [
       "<Figure size 432x288 with 1 Axes>"
      ]
     },
     "metadata": {
      "needs_background": "light"
     },
     "output_type": "display_data"
    }
   ],
   "source": [
    "plt.plot(x,y)\n",
    "plt.plot(x,y,'ro')"
   ]
  },
  {
   "cell_type": "markdown",
   "metadata": {},
   "source": [
    "# Since the data points are very perfect ,we try to add some noise to make it look natural."
   ]
  },
  {
   "cell_type": "markdown",
   "metadata": {},
   "source": [
    "# So forming new y with noise."
   ]
  },
  {
   "cell_type": "markdown",
   "metadata": {},
   "source": [
    "# Here we use noise to show the line is not perfect and we are trying to fit the best one rather than perfect one."
   ]
  },
  {
   "cell_type": "code",
   "execution_count": 127,
   "metadata": {},
   "outputs": [],
   "source": [
    "new_y = m*(x+np.random.randint(-1,2,40)) + c"
   ]
  },
  {
   "cell_type": "code",
   "execution_count": 128,
   "metadata": {},
   "outputs": [
    {
     "data": {
      "text/plain": [
       "[<matplotlib.lines.Line2D at 0x1be2a934860>]"
      ]
     },
     "execution_count": 128,
     "metadata": {},
     "output_type": "execute_result"
    },
    {
     "data": {
      "image/png": "[encoded data removed]",
      "text/plain": [
       "<Figure size 432x288 with 1 Axes>"
      ]
     },
     "metadata": {
      "needs_background": "light"
     },
     "output_type": "display_data"
    }
   ],
   "source": [
    "plt.plot(x,new_y,'ro')\n",
    "plt.plot(x,y)"
   ]
  },
  {
   "cell_type": "markdown",
   "metadata": {},
   "source": [
    "# '''In the above diagram we can see the values are scattered along the line.And now we will write a linear regression program which will fit the above points with minimum error."
   ]
  },
  {
   "cell_type": "markdown",
   "metadata": {},
   "source": [
    "# Now regarding everyone doubt , we are forgetting the slope and intercept we used.And trying to find the slope and intercept with minimum error using the linear regression"
   ]
  },
  {
   "cell_type": "markdown",
   "metadata": {},
   "source": [
    "## Steps for linear regression using gradient descent\n",
    "Step1: \n",
    "     We will assume random numbers for the slope and intercept.\n",
    "     m = 8\n",
    "     c=10\n",
    "     \n",
    "Step2:\n",
    "     Find the new predicted y_pred value using the guessed slope-m and intercept-c\n",
    "     y_pred = m * x + c\n",
    "     \n",
    "Step3:\n",
    "    Find the error between the actual y and predicted y.\n",
    "    Error = y_pred - y\n",
    "    \n",
    "    \n",
    "    Find the total error between all the predicted y values to all y values.\n",
    "    Error = (sigma(y_pred-y)^2)/(2*len(y))\n",
    "    \n",
    "    Subtract each y_pred with actual y and square them.\n",
    "    Sum them and divide them by number of rows.\n",
    "    \n",
    "    This will give us the total error\n",
    "   \n",
    "Step4:\n",
    "     We will be using gradient descent to find the new slope and intercept values which would give us less error.\n",
    "     But here we need to know what is the error with respect to slope.\n",
    "     So we differentiate the error equation with respect to slope-m.\n",
    "     \n",
    "     Error with respect to slope will be \n",
    "     new_slope = previous_slope -( learning_rate * (Error with slope))\n",
    "     m = m - a*(((y_pred-y) x)  / len(y))\n",
    "     \n",
    "     new_intercept = previous_intercept  - (learning_rate *Error with intercept)\n",
    "     c = c - a*((y_pred-y)/len(y))\n",
    "Step5:\n",
    "     Repeat theses steps from step 2 untill the below condition is satisfied and you can stop.\n",
    "     \n",
    "     \n",
    "    Check if the change in slope and intercept values are changing less than 0.01 or the iterations have reached 100 , then stop iterating and consider these values are the best we can get."
   ]
  },
  {
   "cell_type": "markdown",
   "metadata": {},
   "source": [
    "# To make it look easy we will be using the data in form table for each equation and will watch the data changes as we go."
   ]
  },
  {
   "cell_type": "code",
   "execution_count": 129,
   "metadata": {},
   "outputs": [],
   "source": [
    "import pandas as pd"
   ]
  },
  {
   "cell_type": "markdown",
   "metadata": {},
   "source": [
    "## This table will be having columns as \n",
    "Error\n",
    "\n",
    "slope\n",
    "\n",
    "intercept\n",
    "\n",
    "change in slope\n",
    "\n",
    "change in intercept"
   ]
  },
  {
   "cell_type": "code",
   "execution_count": 130,
   "metadata": {},
   "outputs": [
    {
     "data": {
      "text/html": [
       "<div>\n",
       "<style>\n",
       "    .dataframe thead tr:only-child th {\n",
       "        text-align: right;\n",
       "    }\n",
       "\n",
       "    .dataframe thead th {\n",
       "        text-align: left;\n",
       "    }\n",
       "\n",
       "    .dataframe tbody tr th {\n",
       "        vertical-align: top;\n",
       "    }\n",
       "</style>\n",
       "<table border=\"1\" class=\"dataframe\">\n",
       "  <thead>\n",
       "    <tr style=\"text-align: right;\">\n",
       "      <th></th>\n",
       "      <th>error</th>\n",
       "      <th>slope</th>\n",
       "      <th>intercept</th>\n",
       "      <th>chgSlp</th>\n",
       "      <th>chgInt</th>\n",
       "    </tr>\n",
       "  </thead>\n",
       "  <tbody>\n",
       "  </tbody>\n",
       "</table>\n",
       "</div>"
      ],
      "text/plain": [
       "Empty DataFrame\n",
       "Columns: [error, slope, intercept, chgSlp, chgInt]\n",
       "Index: []"
      ]
     },
     "execution_count": 130,
     "metadata": {},
     "output_type": "execute_result"
    }
   ],
   "source": [
    "df = pd.DataFrame()\n",
    "df['error']=[]\n",
    "df['slope']=[]\n",
    "df['intercept']=[]\n",
    "df['chgSlp']=[]\n",
    "df['chgInt']=[]\n",
    "df"
   ]
  },
  {
   "cell_type": "markdown",
   "metadata": {},
   "source": [
    "## Here I will record values only after every 10 iterations."
   ]
  },
  {
   "cell_type": "markdown",
   "metadata": {},
   "source": [
    "# Step1:"
   ]
  },
  {
   "cell_type": "code",
   "execution_count": 131,
   "metadata": {},
   "outputs": [
    {
     "name": "stdout",
     "output_type": "stream",
     "text": [
      "m= 8 c= 0\n"
     ]
    }
   ],
   "source": [
    "# Random numbers for slope-m and intercept-c\n",
    "\n",
    "m = np.random.randint(0,10,1)[0]\n",
    "c = np.random.randint(0,10,1)[0]\n",
    "print('m=',m,'c=',c)"
   ]
  },
  {
   "cell_type": "markdown",
   "metadata": {},
   "source": [
    "## Step2:"
   ]
  },
  {
   "cell_type": "code",
   "execution_count": 132,
   "metadata": {},
   "outputs": [
    {
     "data": {
      "text/plain": [
       "array([56, 72, 32,  0, 24, 40, 32, 32, 64, 16, 24, 56, 56,  8,  0, 40, 24,\n",
       "        0, 64, 16, 24, 48,  8, 24, 16, 32, 64, 32,  8, 16, 40, 32, 64, 16,\n",
       "       16, 24,  0, 32, 40,  0])"
      ]
     },
     "execution_count": 132,
     "metadata": {},
     "output_type": "execute_result"
    }
   ],
   "source": [
    "#Find the y values with respect to the slope and intercept values using x.\n",
    "def predict_y(x):\n",
    "    y_pred = (m * x) + c\n",
    "    return y_pred\n",
    "y_pred = predict_y(x)\n",
    "y_pred"
   ]
  },
  {
   "cell_type": "markdown",
   "metadata": {},
   "source": [
    "## Step3"
   ]
  },
  {
   "cell_type": "code",
   "execution_count": 133,
   "metadata": {},
   "outputs": [
    {
     "data": {
      "text/plain": [
       "44.925"
      ]
     },
     "execution_count": 133,
     "metadata": {},
     "output_type": "execute_result"
    }
   ],
   "source": [
    "# Find the error between predicted y values and actual y values\n",
    "def err(y_pred,y):\n",
    "    error = sum((y_pred-y)*(y_pred-y))/(2*len(y))\n",
    "    return error\n",
    "\n",
    "mse = err(y_pred,new_y)\n",
    "mse\n",
    "\n",
    "    "
   ]
  },
  {
   "cell_type": "markdown",
   "metadata": {},
   "source": [
    "Step4\n",
    "## Error with respect to slope and intercept\n",
    "And n"
   ]
  },
  {
   "cell_type": "code",
   "execution_count": 134,
   "metadata": {},
   "outputs": [
    {
     "name": "stdout",
     "output_type": "stream",
     "text": [
      "7.66975 -0.0355\n"
     ]
    }
   ],
   "source": [
    "# new slope and intercept values\n",
    "def new_m_c(a,m,c,x,y,y_pred):\n",
    "    m = m - a*(sum((y_pred-y)*x)/len(y))\n",
    "    c = c - a*(sum(y_pred-y)/len(y))\n",
    "    return (m,c)\n",
    "\n",
    "#alpha or learning rate,\n",
    "a = 0.01\n",
    "m_new,c_new = new_m_c(a,m,c,x,new_y,y_pred)\n",
    "\n",
    "print(m_new,c_new)"
   ]
  },
  {
   "cell_type": "markdown",
   "metadata": {},
   "source": [
    "## Learning rate\n",
    "We will be trying to move towards the right answer and everytime we are trying to reduce 1% of the error and this is what learning rate."
   ]
  },
  {
   "cell_type": "code",
   "execution_count": 135,
   "metadata": {},
   "outputs": [
    {
     "name": "stdout",
     "output_type": "stream",
     "text": [
      "change in m= 0.3302500000000004 change in c= 0.0355\n"
     ]
    }
   ],
   "source": [
    "# find the difference betweeen the previous slope and current slope values.\n",
    "def diffrnc(m1,c1,m2,c2):\n",
    "    md = m1-m2\n",
    "    cd = c1-c2\n",
    "    if md < 0:\n",
    "        md = md * -1\n",
    "    if cd < 0:\n",
    "        cd =cd * -1\n",
    "    \n",
    "    return (md,cd)\n",
    "\n",
    "m_chg,c_chg = diffrnc(m,c,m_new,c_new)\n",
    "\n",
    "print('change in m=',m_chg,'change in c=',c_chg) "
   ]
  },
  {
   "cell_type": "code",
   "execution_count": 136,
   "metadata": {},
   "outputs": [
    {
     "data": {
      "text/html": [
       "<div>\n",
       "<style>\n",
       "    .dataframe thead tr:only-child th {\n",
       "        text-align: right;\n",
       "    }\n",
       "\n",
       "    .dataframe thead th {\n",
       "        text-align: left;\n",
       "    }\n",
       "\n",
       "    .dataframe tbody tr th {\n",
       "        vertical-align: top;\n",
       "    }\n",
       "</style>\n",
       "<table border=\"1\" class=\"dataframe\">\n",
       "  <thead>\n",
       "    <tr style=\"text-align: right;\">\n",
       "      <th></th>\n",
       "      <th>error</th>\n",
       "      <th>slope</th>\n",
       "      <th>intercept</th>\n",
       "      <th>chgSlp</th>\n",
       "      <th>chgInt</th>\n",
       "    </tr>\n",
       "  </thead>\n",
       "  <tbody>\n",
       "    <tr>\n",
       "      <th>0</th>\n",
       "      <td>44.925</td>\n",
       "      <td>7.66975</td>\n",
       "      <td>-0.0355</td>\n",
       "      <td>0.33025</td>\n",
       "      <td>0.0355</td>\n",
       "    </tr>\n",
       "  </tbody>\n",
       "</table>\n",
       "</div>"
      ],
      "text/plain": [
       "    error    slope  intercept   chgSlp  chgInt\n",
       "0  44.925  7.66975    -0.0355  0.33025  0.0355"
      ]
     },
     "execution_count": 136,
     "metadata": {},
     "output_type": "execute_result"
    }
   ],
   "source": [
    "# Now we have to add these values into the pandas dataframe\n",
    "\n",
    "df.loc[0]=[mse,m_new,c_new,m_chg,c_chg]\n",
    "df"
   ]
  },
  {
   "cell_type": "markdown",
   "metadata": {},
   "source": [
    "## Now we can iterate through these functions one after the other and find the slope and interecpt values."
   ]
  },
  {
   "cell_type": "code",
   "execution_count": 137,
   "metadata": {},
   "outputs": [
    {
     "name": "stdout",
     "output_type": "stream",
     "text": [
      "8 0\n",
      "0.003443330152323121 0.01850445808730239\n"
     ]
    },
    {
     "data": {
      "text/plain": [
       "[<matplotlib.lines.Line2D at 0x1be2a8ddfd0>]"
      ]
     },
     "execution_count": 137,
     "metadata": {},
     "output_type": "execute_result"
    },
    {
     "data": {
      "image/png": "[encoded data removed]",
      "text/plain": [
       "<Figure size 432x288 with 1 Axes>"
      ]
     },
     "metadata": {
      "needs_background": "light"
     },
     "output_type": "display_data"
    }
   ],
   "source": [
    "#Condition to stop the iterations is the number of\n",
    "#iteration should be 100 or change in slope and intercept values should be less than 0.01\n",
    "print(m,c)\n",
    "for i in range(1000):\n",
    "#     Step2:\n",
    "    y_pred = predict_y(x)\n",
    "#     Step3:\n",
    "    mse = err(y_pred,new_y)\n",
    "#     Step4:\n",
    "    m_new,c_new = new_m_c(a,m,c,x,new_y,y_pred)\n",
    "#     Step5:\n",
    "    m_chg,c_chg = diffrnc(m,c,m_new,c_new)\n",
    "    m,c = m_new,c_new\n",
    "        \n",
    "    if i%5 == 0:\n",
    "        df.loc[len(df)] = [mse,m,c,m_chg,c_chg]\n",
    "    if(m_chg < 0.001) and (c_chg < 0.001):\n",
    "        print(i,m_chg,c_chg)\n",
    "        break\n",
    "    if i == 99:\n",
    "        print(m_chg,c_chg)\n",
    "df.loc[len(df)] = [mse,m,c,m_chg,c_chg]\n",
    "plt.plot(x,new_y,'ro')\n",
    "plt.plot(x,y_pred)"
   ]
  },
  {
   "cell_type": "code",
   "execution_count": 160,
   "metadata": {},
   "outputs": [
    {
     "data": {
      "text/html": [
       "<div>\n",
       "<style>\n",
       "    .dataframe thead tr:only-child th {\n",
       "        text-align: right;\n",
       "    }\n",
       "\n",
       "    .dataframe thead th {\n",
       "        text-align: left;\n",
       "    }\n",
       "\n",
       "    .dataframe tbody tr th {\n",
       "        vertical-align: top;\n",
       "    }\n",
       "</style>\n",
       "<table border=\"1\" class=\"dataframe\">\n",
       "  <thead>\n",
       "    <tr style=\"text-align: right;\">\n",
       "      <th></th>\n",
       "      <th>error</th>\n",
       "      <th>slope</th>\n",
       "      <th>intercept</th>\n",
       "      <th>chgSlp</th>\n",
       "      <th>chgInt</th>\n",
       "    </tr>\n",
       "  </thead>\n",
       "  <tbody>\n",
       "    <tr>\n",
       "      <th>0</th>\n",
       "      <td>44.925000</td>\n",
       "      <td>7.669750</td>\n",
       "      <td>-0.035500</td>\n",
       "      <td>0.330250</td>\n",
       "      <td>0.035500</td>\n",
       "    </tr>\n",
       "    <tr>\n",
       "      <th>1</th>\n",
       "      <td>44.925000</td>\n",
       "      <td>7.669750</td>\n",
       "      <td>-0.035500</td>\n",
       "      <td>0.330250</td>\n",
       "      <td>0.035500</td>\n",
       "    </tr>\n",
       "    <tr>\n",
       "      <th>2</th>\n",
       "      <td>20.978209</td>\n",
       "      <td>6.799191</td>\n",
       "      <td>-0.068918</td>\n",
       "      <td>0.104665</td>\n",
       "      <td>0.006081</td>\n",
       "    </tr>\n",
       "    <tr>\n",
       "      <th>3</th>\n",
       "      <td>18.435054</td>\n",
       "      <td>6.515958</td>\n",
       "      <td>0.004994</td>\n",
       "      <td>0.035283</td>\n",
       "      <td>0.018602</td>\n",
       "    </tr>\n",
       "    <tr>\n",
       "      <th>4</th>\n",
       "      <td>17.922306</td>\n",
       "      <td>6.413480</td>\n",
       "      <td>0.110610</td>\n",
       "      <td>0.013911</td>\n",
       "      <td>0.022196</td>\n",
       "    </tr>\n",
       "  </tbody>\n",
       "</table>\n",
       "</div>"
      ],
      "text/plain": [
       "       error     slope  intercept    chgSlp    chgInt\n",
       "0  44.925000  7.669750  -0.035500  0.330250  0.035500\n",
       "1  44.925000  7.669750  -0.035500  0.330250  0.035500\n",
       "2  20.978209  6.799191  -0.068918  0.104665  0.006081\n",
       "3  18.435054  6.515958   0.004994  0.035283  0.018602\n",
       "4  17.922306  6.413480   0.110610  0.013911  0.022196"
      ]
     },
     "execution_count": 160,
     "metadata": {},
     "output_type": "execute_result"
    }
   ],
   "source": [
    "# Here we can see the line has fit the data points with least error\n",
    "df.head()\n",
    "#Remeber this is the only top five rows of the table"
   ]
  },
  {
   "cell_type": "markdown",
   "metadata": {},
   "source": [
    "## We can use this table to see the change in line slope and intercept"
   ]
  },
  {
   "cell_type": "code",
   "execution_count": 159,
   "metadata": {},
   "outputs": [
    {
     "data": {
      "text/plain": [
       "[<matplotlib.lines.Line2D at 0x1be2beb0f60>]"
      ]
     },
     "execution_count": 159,
     "metadata": {},
     "output_type": "execute_result"
    },
    {
     "data": {
      "image/png": "[encoded data removed]",
      "text/plain": [
       "<Figure size 432x288 with 1 Axes>"
      ]
     },
     "metadata": {
      "needs_background": "light"
     },
     "output_type": "display_data"
    }
   ],
   "source": [
    "\n",
    "for i in df.iloc[::5,:].values:\n",
    "    m = i[1]\n",
    "    c = i[2]\n",
    "    plt.plot(x,(m*x+c))\n",
    "\n",
    "plt.plot(x,y,'ro')\n",
    "\n"
   ]
  },
  {
   "cell_type": "code",
   "execution_count": null,
   "metadata": {},
   "outputs": [],
   "source": []
  }
 ],
 "metadata": {
  "kernelspec": {
   "display_name": "Python 3",
   "language": "python",
   "name": "python3"
  },
  "language_info": {
   "codemirror_mode": {
    "name": "ipython",
    "version": 3
   },
   "file_extension": ".py",
   "mimetype": "text/x-python",
   "name": "python",
   "nbconvert_exporter": "python",
   "pygments_lexer": "ipython3",
   "version": "3.6.7"
  }
 },
 "nbformat": 4,
 "nbformat_minor": 2
}
