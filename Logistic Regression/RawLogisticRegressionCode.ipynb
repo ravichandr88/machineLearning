{
 "cells": [
  {
   "cell_type": "code",
   "execution_count": 1,
   "metadata": {},
   "outputs": [],
   "source": [
    "import numpy as np\n",
    "import matplotlib.pyplot as plt"
   ]
  },
  {
   "cell_type": "code",
   "execution_count": 2,
   "metadata": {},
   "outputs": [],
   "source": [
    "x = np.arange(1,10,1)"
   ]
  },
  {
   "cell_type": "code",
   "execution_count": 3,
   "metadata": {},
   "outputs": [],
   "source": [
    "y=[0,0,0,0,1,1,1,1,1]"
   ]
  },
  {
   "cell_type": "code",
   "execution_count": 4,
   "metadata": {},
   "outputs": [
    {
     "data": {
      "text/plain": [
       "[<matplotlib.lines.Line2D at 0x2d816969ba8>]"
      ]
     },
     "execution_count": 4,
     "metadata": {},
     "output_type": "execute_result"
    },
    {
     "data": {
      "image/png": "[encoded data removed]",
      "text/plain": [
       "<Figure size 432x288 with 1 Axes>"
      ]
     },
     "metadata": {
      "needs_background": "light"
     },
     "output_type": "display_data"
    }
   ],
   "source": [
    "plt.plot(x,y,'ro')"
   ]
  },
  {
   "cell_type": "code",
   "execution_count": 7,
   "metadata": {},
   "outputs": [],
   "source": [
    "# initialize random number for m and c\n",
    "theta=np.random.rand()\n",
    "c=np.random.rand()\n",
    "# m,c"
   ]
  },
  {
   "cell_type": "code",
   "execution_count": 52,
   "metadata": {},
   "outputs": [
    {
     "name": "stdout",
     "output_type": "stream",
     "text": [
      "[2 3]\n",
      "[2 3]\n",
      "[1.70017931 2.90009493]\n",
      "[1.40047801 2.90009493]\n",
      "[1.40047801 2.800393  ]\n",
      "[1.10100073 2.800393  ]\n",
      "[1.10100073 2.70093365]\n",
      "[0.80199058 2.70093365]\n",
      "[0.80199058 2.60194893]\n",
      "[0.50413751 2.60194893]\n",
      "[0.50413751 2.50408292]\n",
      "[0.21011711 2.50408292]\n",
      "[0.21011711 2.40992979]\n",
      "[-0.06450548  2.40992979]\n",
      "[-0.06450548  2.33285496]\n",
      "[-0.21790171  2.33285496]\n",
      "[-0.21790171  2.28493369]\n",
      "[-0.15497303  2.28493369]\n",
      "[-0.15497303  2.22527393]\n",
      "[-0.18113881  2.22527393]\n",
      "[-0.18113881  2.17298329]\n",
      "[-0.15496558  2.17298329]\n",
      "[-0.15496558  2.11693263]\n",
      "[-0.1588236   2.11693263]\n",
      "[-0.1588236   2.06359066]\n",
      "[-0.14508074  2.06359066]\n",
      "[-0.14508074  2.00917403]\n",
      "[-0.14159597  2.00917403]\n",
      "[-0.14159597  1.95589975]\n",
      "[-0.13215744  1.95589975]\n",
      "[-0.13215744  1.90247976]\n",
      "[-0.12621951  1.90247976]\n",
      "[-0.12621951  1.84967289]\n",
      "[-0.11828826  1.84967289]\n",
      "[-0.11828826  1.797045  ]\n",
      "[-0.11155557  1.797045  ]\n",
      "[-0.11155557  1.74485587]\n",
      "[-0.1041741   1.74485587]\n",
      "[-0.1041741  1.6929623]\n",
      "[-0.09721281  1.6929623 ]\n",
      "[-0.09721281  1.64145422]\n",
      "[-0.09005695  1.64145422]\n",
      "[-0.09005695  1.59028673]\n",
      "[-0.08306101  1.59028673]\n",
      "[-0.08306101  1.53949228]\n",
      "[-0.07602321  1.53949228]\n",
      "[-0.07602321  1.48905869]\n",
      "[-0.06905994  1.48905869]\n",
      "[-0.06905994  1.43899902]\n",
      "[-0.06210622  1.43899902]\n",
      "[-0.06210622  1.38931165]\n",
      "[-0.05520004  1.38931165]\n",
      "[-0.05520004  1.34000298]\n",
      "[-0.04832115  1.34000298]\n",
      "[-0.04832115  1.2910746 ]\n",
      "[-0.04148204  1.2910746 ]\n",
      "[-0.04148204  1.24253046]\n",
      "[-0.03467686  1.24253046]\n",
      "[-0.03467686  1.19437284]\n",
      "[-0.02790994  1.19437284]\n",
      "[-0.02790994  1.14660464]\n",
      "[-0.02117994  1.14660464]\n",
      "[-0.02117994  1.09922804]\n",
      "[-0.01448861  1.09922804]\n",
      "[-0.01448861  1.05224528]\n",
      "[-0.00783597  1.05224528]\n",
      "[-0.00783597  1.0056582 ]\n",
      "[-0.00122297  1.0056582 ]\n",
      "[-0.00122297  0.95946849]\n",
      "[0.00535001 0.95946849]\n",
      "[0.00535001 0.91367757]\n",
      "[0.01188231 0.91367757]\n",
      "[0.01188231 0.86828664]\n",
      "[0.01837346 0.86828664]\n",
      "[0.01837346 0.82329663]\n",
      "[0.02482294 0.82329663]\n",
      "[0.02482294 0.77870827]\n",
      "[0.03123028 0.77870827]\n",
      "[0.03123028 0.73452202]\n",
      "[0.03759504 0.73452202]\n",
      "[0.03759504 0.69073813]\n",
      "[0.0439168  0.69073813]\n",
      "[0.0439168  0.64735661]\n",
      "[0.0501952  0.64735661]\n",
      "[0.0501952  0.60437723]\n",
      "[0.05642987 0.60437723]\n",
      "[0.05642987 0.56179955]\n",
      "[0.0626205  0.56179955]\n",
      "[0.0626205  0.51962291]\n",
      "[0.06876679 0.51962291]\n",
      "[0.06876679 0.47784642]\n",
      "[0.07486848 0.47784642]\n",
      "[0.07486848 0.436469  ]\n",
      "[0.08092536 0.436469  ]\n",
      "[0.08092536 0.39548935]\n",
      "[0.08693721 0.39548935]\n",
      "[0.08693721 0.35490598]\n",
      "[0.09290387 0.35490598]\n",
      "[0.09290387 0.31471722]\n",
      "[0.09882521 0.31471722]\n",
      "[0.09882521 0.2749212 ]\n",
      "[0.10470112 0.2749212 ]\n",
      "[0.10470112 0.23551588]\n",
      "[0.1105315  0.23551588]\n",
      "[0.1105315  0.19649906]\n",
      "[0.11631633 0.19649906]\n",
      "[0.11631633 0.15786837]\n",
      "[0.12205556 0.15786837]\n",
      "[0.12205556 0.1196213 ]\n",
      "[0.12774921 0.1196213 ]\n",
      "[0.12774921 0.08175518]\n",
      "[0.1333973  0.08175518]\n",
      "[0.1333973  0.04426722]\n",
      "[0.13899989 0.04426722]\n",
      "[0.13899989 0.0071545 ]\n",
      "[0.14455707 0.0071545 ]\n",
      "[ 0.14455707 -0.02958603]\n",
      "[ 0.15006892 -0.02958603]\n",
      "[ 0.15006892 -0.06595752]\n",
      "[ 0.15553559 -0.06595752]\n",
      "[ 0.15553559 -0.10196322]\n",
      "[ 0.16095721 -0.10196322]\n",
      "[ 0.16095721 -0.1376065 ]\n",
      "[ 0.16633396 -0.1376065 ]\n",
      "[ 0.16633396 -0.17289078]\n",
      "[ 0.17166603 -0.17289078]\n",
      "[ 0.17166603 -0.20781959]\n",
      "[ 0.17695362 -0.20781959]\n",
      "[ 0.17695362 -0.24239652]\n",
      "[ 0.18219697 -0.24239652]\n",
      "[ 0.18219697 -0.27662523]\n",
      "[ 0.18739631 -0.27662523]\n",
      "[ 0.18739631 -0.31050942]\n",
      "[ 0.19255191 -0.31050942]\n",
      "[ 0.19255191 -0.34405286]\n",
      "[ 0.19766403 -0.34405286]\n",
      "[ 0.19766403 -0.37725938]\n",
      "[ 0.20273298 -0.37725938]\n",
      "[ 0.20273298 -0.4101328 ]\n",
      "[ 0.20775904 -0.4101328 ]\n",
      "[ 0.20775904 -0.44267702]\n",
      "[ 0.21274254 -0.44267702]\n",
      "[ 0.21274254 -0.47489593]\n",
      "[ 0.21768381 -0.47489593]\n",
      "[ 0.21768381 -0.50679348]\n",
      "[ 0.22258317 -0.50679348]\n",
      "[ 0.22258317 -0.5383736 ]\n",
      "[ 0.22744097 -0.5383736 ]\n",
      "[ 0.22744097 -0.56964025]\n",
      "[ 0.23225757 -0.56964025]\n",
      "[ 0.23225757 -0.60059739]\n",
      "[ 0.23703334 -0.60059739]\n",
      "[ 0.23703334 -0.63124897]\n",
      "[ 0.24176864 -0.63124897]\n",
      "[ 0.24176864 -0.66159897]\n",
      "[ 0.24646385 -0.66159897]\n",
      "[ 0.24646385 -0.69165132]\n",
      "[ 0.25111935 -0.69165132]\n",
      "[ 0.25111935 -0.72140998]\n",
      "[ 0.25573554 -0.72140998]\n",
      "[ 0.25573554 -0.75087887]\n",
      "[ 0.2603128  -0.75087887]\n",
      "[ 0.2603128  -0.78006191]\n",
      "[ 0.26485153 -0.78006191]\n",
      "[ 0.26485153 -0.80896298]\n",
      "[ 0.26935213 -0.80896298]\n",
      "[ 0.26935213 -0.83758594]\n",
      "[ 0.27381501 -0.83758594]\n",
      "[ 0.27381501 -0.86593465]\n",
      "[ 0.27824057 -0.86593465]\n",
      "[ 0.27824057 -0.89401291]\n",
      "[ 0.28262921 -0.89401291]\n",
      "[ 0.28262921 -0.92182452]\n",
      "[ 0.28698135 -0.92182452]\n",
      "[ 0.28698135 -0.94937321]\n",
      "[ 0.29129739 -0.94937321]\n",
      "[ 0.29129739 -0.9766627 ]\n",
      "[ 0.29557774 -0.9766627 ]\n",
      "[ 0.29557774 -1.00369669]\n",
      "[ 0.29982281 -1.00369669]\n",
      "[ 0.29982281 -1.0304788 ]\n",
      "[ 0.30403302 -1.0304788 ]\n",
      "[ 0.30403302 -1.05701266]\n",
      "[ 0.30820876 -1.05701266]\n",
      "[ 0.30820876 -1.08330181]\n",
      "[ 0.31235044 -1.08330181]\n",
      "[ 0.31235044 -1.10934979]\n",
      "[ 0.31645847 -1.10934979]\n",
      "[ 0.31645847 -1.13516007]\n",
      "[ 0.32053326 -1.13516007]\n",
      "[ 0.32053326 -1.1607361 ]\n",
      "[ 0.3245752 -1.1607361]\n",
      "[ 0.3245752  -1.18608128]\n",
      "[ 0.32858469 -1.18608128]\n",
      "[ 0.32858469 -1.21119895]\n",
      "[ 0.33256213 -1.21119895]\n",
      "[ 0.33256213 -1.23609243]\n",
      "[ 0.33650792 -1.23609243]\n",
      "[ 0.33650792 -1.26076497]\n",
      "[ 0.34042244 -1.26076497]\n"
     ]
    },
    {
     "data": {
      "text/plain": [
       "[0.340422437448045, -1.2852197917899968]"
      ]
     },
     "execution_count": 52,
     "metadata": {},
     "output_type": "execute_result"
    }
   ],
   "source": [
    "x=np.array([\n",
    "#     [1,1],\n",
    "#     [1,2],\n",
    "#     [1,3],\n",
    "#     [1,4],\n",
    "#     [1,5],\n",
    "#     [1,6],\n",
    "#     [1,7],\n",
    "#     [1,8],\n",
    "#     [1,9],\n",
    "#     [1,10]\n",
    "    [1,1],\n",
    "    [2,1],\n",
    "    [3,1],\n",
    "    [4,1],\n",
    "    [5,1],\n",
    "    [6,1],\n",
    "    [7,1],\n",
    "    [8,1],\n",
    "    [9,1],\n",
    "    [10,1]\n",
    "])\n",
    "y=np.array([0,0,0,0,0,1,1,1,1,1])\n",
    "\n",
    "lmbd=0.001\n",
    "l=5\n",
    "theta=np.array([2,3])\n",
    "a=0.01\n",
    "m=0.5\n",
    "\n",
    "\n",
    "\n",
    "## Vectorized Implementation of Optimization Using Gradient Descent\n",
    "# Define Cost function\n",
    "def cost(t, h,X=x, y=y, m=m):\n",
    "#     print('t[1:]',t)\n",
    "#     print('h',h)\n",
    "    cost = np.transpose(-y)@np.log(h) - np.transpose(1-y)@np.log(1-h) + (l/2)*np.transpose(t[1:])@t[1:]\n",
    "    cost = (1/m)*cost\n",
    "    return cost\n",
    "# Define first derivative of cost function\n",
    "def cost_dev(j, t, X=x, y=y, m=m):\n",
    "    print(t)\n",
    "    dev = X[:, j]@(1/(1 + np.exp(-X@theta)) - y)\n",
    "    dev = (1/m)*dev\n",
    "    return dev# Define iterations\n",
    "cost_list = []\n",
    "theta_temp = np.zeros(theta.shape)\n",
    "theta_list = []\n",
    "\n",
    "for i in range(100):\n",
    "    \n",
    "    for j in range(len(theta)): \n",
    "        if j == 0:\n",
    "            theta_temp[j] = theta[j] - a*cost_dev(j, theta)\n",
    "        else:\n",
    "            theta_temp[j] = theta[j]*(1 - (a*lmbd)/m) - a*cost_dev(j, theta)\n",
    "    \n",
    "    theta = theta_temp        \n",
    "    hypo = 1/(1 + np.exp(-x@theta))\n",
    "    \n",
    "    theta_list.append(list(theta))\n",
    "    cost_val = cost(theta, hypo)\n",
    "    cost_list.append(cost_val)\n",
    "theta_list[-1]"
   ]
  },
  {
   "cell_type": "code",
   "execution_count": 53,
   "metadata": {},
   "outputs": [
    {
     "data": {
      "text/plain": [
       "[<matplotlib.lines.Line2D at 0x2d81cd601d0>]"
      ]
     },
     "execution_count": 53,
     "metadata": {},
     "output_type": "execute_result"
    },
    {
     "data": {
      "image/png": "[encoded data removed]",
      "text/plain": [
       "<Figure size 432x288 with 1 Axes>"
      ]
     },
     "metadata": {
      "needs_background": "light"
     },
     "output_type": "display_data"
    }
   ],
   "source": [
    "# xx = theta_list[-1][0]*np.arange(0,10,1) + theta_list[-1][1]\n",
    "# plt.plot(np.arange(0,10,1),xx)\n",
    "import matplotlib.cm as cm\n",
    "colors = cm.rainbow(np.linspace(0, 1, len(theta_list)))\n",
    "for i, c in zip(theta_list, colors):\n",
    "    ll = i[0]*np.arange(0,10,1) + i[1]\n",
    "    plt.scatter(np.arange(0,10,1),(1/(1+np.exp(-ll))),color=c,alpha=0.01)\n",
    "# xx = 1/(1+np.exp(-xx))\n",
    "# plt.plot(np.arange(0,10,1),xx,'ro')\n",
    "plt.plot(np.arange(0,10,1),y,'bo')"
   ]
  },
  {
   "cell_type": "code",
   "execution_count": 16,
   "metadata": {},
   "outputs": [
    {
     "data": {
      "text/plain": [
       "3.9762383089501845"
      ]
     },
     "execution_count": 16,
     "metadata": {},
     "output_type": "execute_result"
    }
   ],
   "source": [
    "xx@y"
   ]
  },
  {
   "cell_type": "code",
   "execution_count": 14,
   "metadata": {},
   "outputs": [
    {
     "data": {
      "text/plain": [
       "array([0, 0, 0, 0, 0, 1, 1, 1, 1, 1])"
      ]
     },
     "execution_count": 14,
     "metadata": {},
     "output_type": "execute_result"
    }
   ],
   "source": [
    "y"
   ]
  },
  {
   "cell_type": "code",
   "execution_count": 15,
   "metadata": {},
   "outputs": [
    {
     "data": {
      "text/plain": [
       "3.9762383089501845"
      ]
     },
     "execution_count": 15,
     "metadata": {},
     "output_type": "execute_result"
    }
   ],
   "source": [
    "xx.dot(y)"
   ]
  },
  {
   "cell_type": "code",
   "execution_count": null,
   "metadata": {},
   "outputs": [],
   "source": []
  }
 ],
 "metadata": {
  "kernelspec": {
   "display_name": "Python 3",
   "language": "python",
   "name": "python3"
  },
  "language_info": {
   "codemirror_mode": {
    "name": "ipython",
    "version": 3
   },
   "file_extension": ".py",
   "mimetype": "text/x-python",
   "name": "python",
   "nbconvert_exporter": "python",
   "pygments_lexer": "ipython3",
   "version": "3.6.7"
  }
 },
 "nbformat": 4,
 "nbformat_minor": 2
}
